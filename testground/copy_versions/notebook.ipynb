{
 "cells": [
  {
   "cell_type": "markdown",
   "metadata": {},
   "source": [
    "# Artificial „SU(3) quarks” in quantum dots\n",
    "This notebook contain code for initialization: layout, Hamiltonian (from Layout), and diagonalization of Hamiltonian\n"
   ]
  },
  {
   "cell_type": "code",
   "execution_count": 1,
   "metadata": {},
   "outputs": [],
   "source": [
    "# import necesary modules\n",
    "import numpy as np\n",
    "import matplotlib.pyplot as plt\n",
    "import matplotlib.ticker as mticker"
   ]
  },
  {
   "cell_type": "markdown",
   "metadata": {},
   "source": [
    "Set necesary constants for initialization of layout and Hailtonian"
   ]
  },
  {
   "cell_type": "code",
   "execution_count": 2,
   "metadata": {},
   "outputs": [],
   "source": [
    "# layout_size_x = 2   # number of atoms in X axis\n",
    "# layout_size_y = 2   # number of atoms in Y axis\n",
    "\n",
    "# t = 0.2               # parameter of Hamiltonian\n",
    "t = 0.056865404718729244"
   ]
  },
  {
   "cell_type": "markdown",
   "metadata": {},
   "source": [
    "Functions for initialization layout and ploting it"
   ]
  },
  {
   "cell_type": "code",
   "execution_count": 3,
   "metadata": {},
   "outputs": [],
   "source": [
    "def initialize_layout(layout_size_x, layout_size_y):\n",
    "    Layout = np.zeros((layout_size_y, layout_size_x), dtype=int)\n",
    "    k = 1\n",
    "    for i in range(layout_size_x):\n",
    "        for j in range(layout_size_y):\n",
    "            Layout[j][i] = k\n",
    "            k += 1\n",
    "    return Layout"
   ]
  },
  {
   "cell_type": "code",
   "execution_count": 4,
   "metadata": {},
   "outputs": [],
   "source": [
    "def plot_layout(Layout):\n",
    "    x = Layout.shape[1]\n",
    "    y = Layout.shape[0]\n",
    "    X = np.arange(1, x+1, 1, dtype=int)\n",
    "    fig, axs = plt.subplots(1, 1)\n",
    "\n",
    "    for i in range(y):\n",
    "        Y=[]\n",
    "        for j in range(x):\n",
    "            Y.append(i+1)\n",
    "        axs.scatter(X, Y, c='blue', linewidths=10)\n",
    "    axs.set_aspect('equal', 'box')\n",
    "    formatter = mticker.ScalarFormatter()\n",
    "    axs.xaxis.set_major_formatter(formatter)\n",
    "    axs.xaxis.set_major_locator(mticker.FixedLocator([]))\n",
    "    axs.yaxis.set_major_locator(mticker.FixedLocator([]))\n",
    "    plt.show()"
   ]
  },
  {
   "cell_type": "markdown",
   "metadata": {},
   "source": [
    "Function for initialization Hamiltonian fr0m layout"
   ]
  },
  {
   "cell_type": "code",
   "execution_count": 41,
   "metadata": {},
   "outputs": [],
   "source": [
    "def initialize_hamiltonian(Layout, t):\n",
    "    elements = Layout.shape[0]*Layout.shape[1]\n",
    "    layout_size_x = Layout.shape[0]\n",
    "    layout_size_y = Layout.shape[1]\n",
    "    Hamiltonian = np.zeros((elements,elements))\n",
    "    # for j in range(elements-1):\n",
    "    #     Hamiltonian[j, j + 1] = -t\n",
    "    #    Hamiltonian[j + 1, j] = -t\n",
    "       \n",
    "    for i in range(layout_size_x-1):\n",
    "        for j in range(layout_size_y-1):\n",
    "            \n",
    "            \n",
    "            line = Layout[i][j] - 1\n",
    "            jump1 = Layout[i+1][j] - 1\n",
    "            jump2 = Layout[i][j+1] - 1\n",
    "            Hamiltonian[line][jump1] = -t\n",
    "            Hamiltonian[line][jump2] = -t\n",
    "            Hamiltonian[jump1][line] = -t\n",
    "            Hamiltonian[jump2][line] = -t\n",
    "            \n",
    "    \n",
    "    j = layout_size_y-1\n",
    "    for i in range(layout_size_x-1):\n",
    "        line = Layout[i][j] - 1\n",
    "        jump1 = Layout[i+1][j] - 1\n",
    "        Hamiltonian[line][jump1] = -t\n",
    "        Hamiltonian[jump1][line] = -t\n",
    "\n",
    "    i = layout_size_x-1\n",
    "    for j in range(layout_size_y-1):\n",
    "        line = Layout[i][j] - 1\n",
    "        jump1 = Layout[i][j+1] - 1\n",
    "        Hamiltonian[line][jump1] = -t\n",
    "        Hamiltonian[jump1][line] = -t\n",
    "    \n",
    "    for i in range(elements):\n",
    "       Hamiltonian[i][i] = 4*t*0\n",
    "\n",
    "    return Hamiltonian"
   ]
  },
  {
   "cell_type": "code",
   "execution_count": 5,
   "metadata": {},
   "outputs": [],
   "source": [
    "def initialize_hamiltonian(Layout, t):\n",
    "    elements = Layout.shape[0]*Layout.shape[1]\n",
    "    layout_size_x = Layout.shape[0]\n",
    "    layout_size_y = Layout.shape[1]\n",
    "    Hamiltonian = np.zeros((elements,elements))\n",
    "\n",
    "    for i in range(layout_size_x):\n",
    "        for j in range(layout_size_y):\n",
    "            elem = Layout[i,j] - 1\n",
    "            #print(\"elem = \",Layout[i,j], i, j)\n",
    "            #print(\"neghbours: \")\n",
    "            next_x, prev_x, next_y, prev_y = neighbours(Layout, i, j, True)\n",
    "            #print(next_x, prev_x, next_y, prev_y)\n",
    "            Hamiltonian[next_x,elem] = -t\n",
    "            Hamiltonian[prev_x,elem] = -t\n",
    "            Hamiltonian[next_y,elem] = -t\n",
    "            Hamiltonian[prev_y,elem] = -t\n",
    "            Hamiltonian[elem,next_x] = -t\n",
    "            Hamiltonian[elem,prev_x] = -t\n",
    "            Hamiltonian[elem,next_y] = -t\n",
    "            Hamiltonian[elem,prev_y] = -t\n",
    "\n",
    "    for i in range(elements):\n",
    "       Hamiltonian[i][i] = 4*t\n",
    "       \n",
    "    '''i = 0\n",
    "    for row in Layout:\n",
    "        j = 0\n",
    "        for elem in row:\n",
    "            print(\"elem = \",Layout[i,j])\n",
    "            print(\"neghbours: \", neighbours(Layout, i, j, True))\n",
    "            j += 1\n",
    "        i += 1\n",
    "\n",
    "    for i in range(layout_size_x):\n",
    "        for j in range(layout_size_y):\n",
    "            print(\"elem = \",Layout[i,j], i, j)\n",
    "            print(\"neghbours: \")\n",
    "            next_x, prev_x, next_y, prev_y = neighbours(Layout, i, j, True)\n",
    "            print(next_x, prev_x, next_y, prev_y)\n",
    "            Hamiltonian[next_x,j] = -t\n",
    "            Hamiltonian[j,next_x] = -t\n",
    "\n",
    "            Hamiltonian[prev_x,j] = -t\n",
    "            Hamiltonian[j, prev_x] = -t\n",
    "\n",
    "            Hamiltonian[i,next_y] = -t\n",
    "            Hamiltonian[next_y,i] = -t\n",
    "\n",
    "            Hamiltonian[i,prev_y] = -t\n",
    "            Hamiltonian[prev_y,i] = -t\n",
    "\n",
    "    i , j = 1,1\n",
    "    elem = Layout[i,j] -1\n",
    "    print(\"elem = \",Layout[i,j], i, j)\n",
    "    print(\"neghbours: \")\n",
    "    next_x, prev_x, next_y, prev_y = neighbours(Layout, i, j, True)\n",
    "    print(next_x, prev_x, next_y, prev_y)\n",
    "    Hamiltonian[next_x,elem] = -t\n",
    "    Hamiltonian[prev_x,elem] = -t\n",
    "    Hamiltonian[next_y,elem] = -t\n",
    "    Hamiltonian[prev_y,elem] = -t\n",
    "    Hamiltonian[elem,next_x] = -t\n",
    "    Hamiltonian[elem,prev_x] = -t\n",
    "    Hamiltonian[elem,next_y] = -t\n",
    "    Hamiltonian[elem,prev_y] = -t\n",
    "    \n",
    "    if next_x != j:\n",
    "        Hamiltonian[next_x,j] = -t\n",
    "        Hamiltonian[j,next_x] = -t\n",
    "\n",
    "    if prev_x != j:\n",
    "        Hamiltonian[prev_x,j] = -t\n",
    "        Hamiltonian[j, prev_x] = -t\n",
    "\n",
    "    if next_y != i:\n",
    "        Hamiltonian[i,next_y] = -t\n",
    "        Hamiltonian[next_y,i] = -t\n",
    "\n",
    "    if prev_y != i:\n",
    "        Hamiltonian[i,prev_y] = -t\n",
    "        Hamiltonian[prev_y,i] = -t'''\n",
    "    \n",
    "    return Hamiltonian\n",
    "\n",
    "def neighbours(Layout, i, j, PBC:bool):\n",
    "    layout_size_x = Layout.shape[0]\n",
    "    layout_size_y = Layout.shape[1]\n",
    "    if PBC:\n",
    "        #if j = layout_size_y-1:\n",
    "        \n",
    "        if j in range(1,layout_size_y-1):\n",
    "            next_y = j + 1\n",
    "            prev_y = j - 1\n",
    "        elif j == 0:\n",
    "            next_y = j + 1\n",
    "            prev_y = layout_size_y-1\n",
    "        else:\n",
    "            next_y = 0\n",
    "            prev_y = j - 1\n",
    "\n",
    "        if i in range(1,layout_size_x-1):\n",
    "            next_x = i + 1\n",
    "            prev_x = i - 1\n",
    "        elif i == 0:\n",
    "            next_x = i + 1\n",
    "            prev_x = layout_size_x-1\n",
    "        else:\n",
    "            next_x = 0\n",
    "            prev_x = i - 1\n",
    "    else:\n",
    "        pass\n",
    "    \n",
    "    '''print(Layout[next_x,j],\n",
    "          Layout[prev_x,j],\n",
    "          Layout[i,next_y],\n",
    "          Layout[i,prev_y])'''\n",
    "    # print(next_x, prev_x, next_y, prev_y)\n",
    "    return Layout[i,prev_y]-1, Layout[i,next_y]-1,Layout[prev_x,j]-1,Layout[next_x,j]-1 \n",
    "    # return next_x, prev_x, next_y, prev_y\n",
    "        \n",
    "\n",
    "\n"
   ]
  },
  {
   "cell_type": "code",
   "execution_count": 6,
   "metadata": {},
   "outputs": [
    {
     "data": {
      "text/plain": [
       "array([[ 0.22746162, -0.0568654 ,  0.        , -0.0568654 , -0.0568654 ,\n",
       "         0.        ,  0.        ,  0.        ,  0.        ,  0.        ,\n",
       "         0.        ,  0.        , -0.0568654 ,  0.        ,  0.        ,\n",
       "         0.        ],\n",
       "       [-0.0568654 ,  0.22746162, -0.0568654 ,  0.        ,  0.        ,\n",
       "        -0.0568654 ,  0.        ,  0.        ,  0.        ,  0.        ,\n",
       "         0.        ,  0.        ,  0.        , -0.0568654 ,  0.        ,\n",
       "         0.        ],\n",
       "       [ 0.        , -0.0568654 ,  0.22746162, -0.0568654 ,  0.        ,\n",
       "         0.        , -0.0568654 ,  0.        ,  0.        ,  0.        ,\n",
       "         0.        ,  0.        ,  0.        ,  0.        , -0.0568654 ,\n",
       "         0.        ],\n",
       "       [-0.0568654 ,  0.        , -0.0568654 ,  0.22746162,  0.        ,\n",
       "         0.        ,  0.        , -0.0568654 ,  0.        ,  0.        ,\n",
       "         0.        ,  0.        ,  0.        ,  0.        ,  0.        ,\n",
       "        -0.0568654 ],\n",
       "       [-0.0568654 ,  0.        ,  0.        ,  0.        ,  0.22746162,\n",
       "        -0.0568654 ,  0.        , -0.0568654 , -0.0568654 ,  0.        ,\n",
       "         0.        ,  0.        ,  0.        ,  0.        ,  0.        ,\n",
       "         0.        ],\n",
       "       [ 0.        , -0.0568654 ,  0.        ,  0.        , -0.0568654 ,\n",
       "         0.22746162, -0.0568654 ,  0.        ,  0.        , -0.0568654 ,\n",
       "         0.        ,  0.        ,  0.        ,  0.        ,  0.        ,\n",
       "         0.        ],\n",
       "       [ 0.        ,  0.        , -0.0568654 ,  0.        ,  0.        ,\n",
       "        -0.0568654 ,  0.22746162, -0.0568654 ,  0.        ,  0.        ,\n",
       "        -0.0568654 ,  0.        ,  0.        ,  0.        ,  0.        ,\n",
       "         0.        ],\n",
       "       [ 0.        ,  0.        ,  0.        , -0.0568654 , -0.0568654 ,\n",
       "         0.        , -0.0568654 ,  0.22746162,  0.        ,  0.        ,\n",
       "         0.        , -0.0568654 ,  0.        ,  0.        ,  0.        ,\n",
       "         0.        ],\n",
       "       [ 0.        ,  0.        ,  0.        ,  0.        , -0.0568654 ,\n",
       "         0.        ,  0.        ,  0.        ,  0.22746162, -0.0568654 ,\n",
       "         0.        , -0.0568654 , -0.0568654 ,  0.        ,  0.        ,\n",
       "         0.        ],\n",
       "       [ 0.        ,  0.        ,  0.        ,  0.        ,  0.        ,\n",
       "        -0.0568654 ,  0.        ,  0.        , -0.0568654 ,  0.22746162,\n",
       "        -0.0568654 ,  0.        ,  0.        , -0.0568654 ,  0.        ,\n",
       "         0.        ],\n",
       "       [ 0.        ,  0.        ,  0.        ,  0.        ,  0.        ,\n",
       "         0.        , -0.0568654 ,  0.        ,  0.        , -0.0568654 ,\n",
       "         0.22746162, -0.0568654 ,  0.        ,  0.        , -0.0568654 ,\n",
       "         0.        ],\n",
       "       [ 0.        ,  0.        ,  0.        ,  0.        ,  0.        ,\n",
       "         0.        ,  0.        , -0.0568654 , -0.0568654 ,  0.        ,\n",
       "        -0.0568654 ,  0.22746162,  0.        ,  0.        ,  0.        ,\n",
       "        -0.0568654 ],\n",
       "       [-0.0568654 ,  0.        ,  0.        ,  0.        ,  0.        ,\n",
       "         0.        ,  0.        ,  0.        , -0.0568654 ,  0.        ,\n",
       "         0.        ,  0.        ,  0.22746162, -0.0568654 ,  0.        ,\n",
       "        -0.0568654 ],\n",
       "       [ 0.        , -0.0568654 ,  0.        ,  0.        ,  0.        ,\n",
       "         0.        ,  0.        ,  0.        ,  0.        , -0.0568654 ,\n",
       "         0.        ,  0.        , -0.0568654 ,  0.22746162, -0.0568654 ,\n",
       "         0.        ],\n",
       "       [ 0.        ,  0.        , -0.0568654 ,  0.        ,  0.        ,\n",
       "         0.        ,  0.        ,  0.        ,  0.        ,  0.        ,\n",
       "        -0.0568654 ,  0.        ,  0.        , -0.0568654 ,  0.22746162,\n",
       "        -0.0568654 ],\n",
       "       [ 0.        ,  0.        ,  0.        , -0.0568654 ,  0.        ,\n",
       "         0.        ,  0.        ,  0.        ,  0.        ,  0.        ,\n",
       "         0.        , -0.0568654 , -0.0568654 ,  0.        , -0.0568654 ,\n",
       "         0.22746162]])"
      ]
     },
     "execution_count": 6,
     "metadata": {},
     "output_type": "execute_result"
    }
   ],
   "source": [
    "x=4\n",
    "initialize_hamiltonian(initialize_layout(x,x),t)"
   ]
  },
  {
   "cell_type": "markdown",
   "metadata": {},
   "source": [
    "Function for diagonalization"
   ]
  },
  {
   "cell_type": "code",
   "execution_count": 12,
   "metadata": {},
   "outputs": [],
   "source": [
    "def diagonalize_hamiltonian(Hamiltonian):\n",
    "    w,v =  np.linalg.eig(Hamiltonian)\n",
    "    idx = w.argsort()\n",
    "    w = w[idx]\n",
    "    v = v[:,idx]\n",
    "    diagonal = np.diag(w)\n",
    "    print(\"\\nwartosci wlasne:\\n\", w)\n",
    "    # print(\"\\nwektory wlasne:\\n\", v)\n",
    "    # print('\\nZdiagonalizowany Hamiltonian:\\n', diagonal)\n",
    "    plt.plot(w, 'o')\n",
    "    plt.show()\n",
    "    return diagonal\n"
   ]
  },
  {
   "cell_type": "markdown",
   "metadata": {},
   "source": [
    "## Let's show how layout look like:"
   ]
  },
  {
   "cell_type": "code",
   "execution_count": 8,
   "metadata": {},
   "outputs": [],
   "source": [
    "N = 4"
   ]
  },
  {
   "cell_type": "code",
   "execution_count": 9,
   "metadata": {},
   "outputs": [
    {
     "name": "stdout",
     "output_type": "stream",
     "text": [
      "[[ 1  5  9 13]\n",
      " [ 2  6 10 14]\n",
      " [ 3  7 11 15]\n",
      " [ 4  8 12 16]]\n"
     ]
    },
    {
     "data": {
      "image/png": "[encoded data removed]",
      "text/plain": [
       "<Figure size 640x480 with 1 Axes>"
      ]
     },
     "metadata": {},
     "output_type": "display_data"
    }
   ],
   "source": [
    "Layout = initialize_layout(N, N)\n",
    "print(Layout)\n",
    "plot_layout(Layout)"
   ]
  },
  {
   "cell_type": "markdown",
   "metadata": {},
   "source": [
    "## Let's show how Hamiltonian look like:"
   ]
  },
  {
   "cell_type": "code",
   "execution_count": 10,
   "metadata": {},
   "outputs": [
    {
     "name": "stdout",
     "output_type": "stream",
     "text": [
      "[[ 0.22746162 -0.0568654   0.         -0.0568654  -0.0568654   0.\n",
      "   0.          0.          0.          0.          0.          0.\n",
      "  -0.0568654   0.          0.          0.        ]\n",
      " [-0.0568654   0.22746162 -0.0568654   0.          0.         -0.0568654\n",
      "   0.          0.          0.          0.          0.          0.\n",
      "   0.         -0.0568654   0.          0.        ]\n",
      " [ 0.         -0.0568654   0.22746162 -0.0568654   0.          0.\n",
      "  -0.0568654   0.          0.          0.          0.          0.\n",
      "   0.          0.         -0.0568654   0.        ]\n",
      " [-0.0568654   0.         -0.0568654   0.22746162  0.          0.\n",
      "   0.         -0.0568654   0.          0.          0.          0.\n",
      "   0.          0.          0.         -0.0568654 ]\n",
      " [-0.0568654   0.          0.          0.          0.22746162 -0.0568654\n",
      "   0.         -0.0568654  -0.0568654   0.          0.          0.\n",
      "   0.          0.          0.          0.        ]\n",
      " [ 0.         -0.0568654   0.          0.         -0.0568654   0.22746162\n",
      "  -0.0568654   0.          0.         -0.0568654   0.          0.\n",
      "   0.          0.          0.          0.        ]\n",
      " [ 0.          0.         -0.0568654   0.          0.         -0.0568654\n",
      "   0.22746162 -0.0568654   0.          0.         -0.0568654   0.\n",
      "   0.          0.          0.          0.        ]\n",
      " [ 0.          0.          0.         -0.0568654  -0.0568654   0.\n",
      "  -0.0568654   0.22746162  0.          0.          0.         -0.0568654\n",
      "   0.          0.          0.          0.        ]\n",
      " [ 0.          0.          0.          0.         -0.0568654   0.\n",
      "   0.          0.          0.22746162 -0.0568654   0.         -0.0568654\n",
      "  -0.0568654   0.          0.          0.        ]\n",
      " [ 0.          0.          0.          0.          0.         -0.0568654\n",
      "   0.          0.         -0.0568654   0.22746162 -0.0568654   0.\n",
      "   0.         -0.0568654   0.          0.        ]\n",
      " [ 0.          0.          0.          0.          0.          0.\n",
      "  -0.0568654   0.          0.         -0.0568654   0.22746162 -0.0568654\n",
      "   0.          0.         -0.0568654   0.        ]\n",
      " [ 0.          0.          0.          0.          0.          0.\n",
      "   0.         -0.0568654  -0.0568654   0.         -0.0568654   0.22746162\n",
      "   0.          0.          0.         -0.0568654 ]\n",
      " [-0.0568654   0.          0.          0.          0.          0.\n",
      "   0.          0.         -0.0568654   0.          0.          0.\n",
      "   0.22746162 -0.0568654   0.         -0.0568654 ]\n",
      " [ 0.         -0.0568654   0.          0.          0.          0.\n",
      "   0.          0.          0.         -0.0568654   0.          0.\n",
      "  -0.0568654   0.22746162 -0.0568654   0.        ]\n",
      " [ 0.          0.         -0.0568654   0.          0.          0.\n",
      "   0.          0.          0.          0.         -0.0568654   0.\n",
      "   0.         -0.0568654   0.22746162 -0.0568654 ]\n",
      " [ 0.          0.          0.         -0.0568654   0.          0.\n",
      "   0.          0.          0.          0.          0.         -0.0568654\n",
      "  -0.0568654   0.         -0.0568654   0.22746162]]\n"
     ]
    }
   ],
   "source": [
    "Hamiltonian = initialize_hamiltonian(Layout, t)\n",
    "print(Hamiltonian)"
   ]
  },
  {
   "cell_type": "code",
   "execution_count": 63,
   "metadata": {},
   "outputs": [],
   "source": [
    "import pandas as pd "
   ]
  },
  {
   "cell_type": "code",
   "execution_count": 58,
   "metadata": {},
   "outputs": [],
   "source": [
    "np.savetxt('arr.csv', Hamiltonian, delimiter=',')"
   ]
  },
  {
   "cell_type": "code",
   "execution_count": 185,
   "metadata": {},
   "outputs": [
    {
     "name": "stdout",
     "output_type": "stream",
     "text": [
      "<class 'numpy.ndarray'>\n"
     ]
    }
   ],
   "source": [
    "print(type(Hamiltonian))\n",
    "df = pd.DataFrame(Hamiltonian)\n",
    "df.to_csv(\"Desktop.csv\" ,index=False, header=False)"
   ]
  },
  {
   "cell_type": "code",
   "execution_count": 53,
   "metadata": {},
   "outputs": [
    {
     "name": "stdout",
     "output_type": "stream",
     "text": [
      "[[ 1  2  3  4  5]\n",
      " [ 6  7  8  9 10]]\n"
     ]
    },
    {
     "ename": "TypeError",
     "evalue": "NDFrame.to_csv() got an unexpected keyword argument 'delimiter'",
     "output_type": "error",
     "traceback": [
      "\u001b[1;31m---------------------------------------------------------------------------\u001b[0m",
      "\u001b[1;31mTypeError\u001b[0m                                 Traceback (most recent call last)",
      "Cell \u001b[1;32mIn[53], line 9\u001b[0m\n\u001b[0;32m      6\u001b[0m DF \u001b[38;5;241m=\u001b[39m pd\u001b[38;5;241m.\u001b[39mDataFrame(arr) \n\u001b[0;32m      8\u001b[0m \u001b[38;5;66;03m# save the dataframe as a csv file \u001b[39;00m\n\u001b[1;32m----> 9\u001b[0m \u001b[43mDF\u001b[49m\u001b[38;5;241;43m.\u001b[39;49m\u001b[43mto_csv\u001b[49m\u001b[43m(\u001b[49m\u001b[38;5;124;43m\"\u001b[39;49m\u001b[38;5;124;43mdata1.csv\u001b[39;49m\u001b[38;5;124;43m\"\u001b[39;49m\u001b[43m,\u001b[49m\u001b[43m \u001b[49m\u001b[43mdelimiter\u001b[49m\u001b[43m \u001b[49m\u001b[38;5;241;43m=\u001b[39;49m\u001b[43m \u001b[49m\u001b[38;5;124;43m\"\u001b[39;49m\u001b[38;5;124;43m,\u001b[39;49m\u001b[38;5;124;43m\"\u001b[39;49m\u001b[43m)\u001b[49m\n",
      "File \u001b[1;32mc:\\Users\\Tomek\\AppData\\Local\\Programs\\Python\\Python311\\Lib\\site-packages\\pandas\\util\\_decorators.py:333\u001b[0m, in \u001b[0;36mdeprecate_nonkeyword_arguments.<locals>.decorate.<locals>.wrapper\u001b[1;34m(*args, **kwargs)\u001b[0m\n\u001b[0;32m    327\u001b[0m \u001b[38;5;28;01mif\u001b[39;00m \u001b[38;5;28mlen\u001b[39m(args) \u001b[38;5;241m>\u001b[39m num_allow_args:\n\u001b[0;32m    328\u001b[0m     warnings\u001b[38;5;241m.\u001b[39mwarn(\n\u001b[0;32m    329\u001b[0m         msg\u001b[38;5;241m.\u001b[39mformat(arguments\u001b[38;5;241m=\u001b[39m_format_argument_list(allow_args)),\n\u001b[0;32m    330\u001b[0m         \u001b[38;5;167;01mFutureWarning\u001b[39;00m,\n\u001b[0;32m    331\u001b[0m         stacklevel\u001b[38;5;241m=\u001b[39mfind_stack_level(),\n\u001b[0;32m    332\u001b[0m     )\n\u001b[1;32m--> 333\u001b[0m \u001b[38;5;28;01mreturn\u001b[39;00m \u001b[43mfunc\u001b[49m\u001b[43m(\u001b[49m\u001b[38;5;241;43m*\u001b[39;49m\u001b[43margs\u001b[49m\u001b[43m,\u001b[49m\u001b[43m \u001b[49m\u001b[38;5;241;43m*\u001b[39;49m\u001b[38;5;241;43m*\u001b[39;49m\u001b[43mkwargs\u001b[49m\u001b[43m)\u001b[49m\n",
      "\u001b[1;31mTypeError\u001b[0m: NDFrame.to_csv() got an unexpected keyword argument 'delimiter'"
     ]
    }
   ],
   "source": [
    "# create a dummy array \n",
    "arr = np.arange(1,11).reshape(2,5) \n",
    "print(arr) \n",
    "  \n",
    "# convert array into dataframe \n",
    "DF = pd.DataFrame(arr) \n",
    "  \n",
    "# save the dataframe as a csv file \n",
    "DF.to_csv(\"data1.csv\", delimiter = \",\")"
   ]
  },
  {
   "cell_type": "markdown",
   "metadata": {},
   "source": [
    "## Let's show how Hamiltonian look like after diagonalization:"
   ]
  },
  {
   "cell_type": "code",
   "execution_count": 13,
   "metadata": {},
   "outputs": [
    {
     "name": "stdout",
     "output_type": "stream",
     "text": [
      "\n",
      "wartosci wlasne:\n",
      " [-1.30104261e-17  1.13730809e-01  1.13730809e-01  1.13730809e-01\n",
      "  1.13730809e-01  2.27461619e-01  2.27461619e-01  2.27461619e-01\n",
      "  2.27461619e-01  2.27461619e-01  2.27461619e-01  3.41192428e-01\n",
      "  3.41192428e-01  3.41192428e-01  3.41192428e-01  4.54923238e-01]\n"
     ]
    },
    {
     "data": {
      "image/png": "[encoded data removed]",
      "text/plain": [
       "<Figure size 640x480 with 1 Axes>"
      ]
     },
     "metadata": {},
     "output_type": "display_data"
    }
   ],
   "source": [
    "diagonalizated_hamiltonain = diagonalize_hamiltonian(Hamiltonian)"
   ]
  },
  {
   "cell_type": "code",
   "execution_count": 11,
   "metadata": {},
   "outputs": [
    {
     "name": "stdout",
     "output_type": "stream",
     "text": [
      "[[ 1  5  9 13]\n",
      " [ 2  6 10 14]\n",
      " [ 3  7 11 15]\n",
      " [ 4  8 12 16]]\n"
     ]
    },
    {
     "data": {
      "image/png": "[encoded data removed]",
      "text/plain": [
       "<Figure size 640x480 with 1 Axes>"
      ]
     },
     "metadata": {},
     "output_type": "display_data"
    },
    {
     "name": "stdout",
     "output_type": "stream",
     "text": [
      "[[ 0.22746162 -0.0568654   0.         -0.0568654  -0.0568654   0.\n",
      "   0.          0.          0.          0.          0.          0.\n",
      "  -0.0568654   0.          0.          0.        ]\n",
      " [-0.0568654   0.22746162 -0.0568654   0.          0.         -0.0568654\n",
      "   0.          0.          0.          0.          0.          0.\n",
      "   0.         -0.0568654   0.          0.        ]\n",
      " [ 0.         -0.0568654   0.22746162 -0.0568654   0.          0.\n",
      "  -0.0568654   0.          0.          0.          0.          0.\n",
      "   0.          0.         -0.0568654   0.        ]\n",
      " [-0.0568654   0.         -0.0568654   0.22746162  0.          0.\n",
      "   0.         -0.0568654   0.          0.          0.          0.\n",
      "   0.          0.          0.         -0.0568654 ]\n",
      " [-0.0568654   0.          0.          0.          0.22746162 -0.0568654\n",
      "   0.         -0.0568654  -0.0568654   0.          0.          0.\n",
      "   0.          0.          0.          0.        ]\n",
      " [ 0.         -0.0568654   0.          0.         -0.0568654   0.22746162\n",
      "  -0.0568654   0.          0.         -0.0568654   0.          0.\n",
      "   0.          0.          0.          0.        ]\n",
      " [ 0.          0.         -0.0568654   0.          0.         -0.0568654\n",
      "   0.22746162 -0.0568654   0.          0.         -0.0568654   0.\n",
      "   0.          0.          0.          0.        ]\n",
      " [ 0.          0.          0.         -0.0568654  -0.0568654   0.\n",
      "  -0.0568654   0.22746162  0.          0.          0.         -0.0568654\n",
      "   0.          0.          0.          0.        ]\n",
      " [ 0.          0.          0.          0.         -0.0568654   0.\n",
      "   0.          0.          0.22746162 -0.0568654   0.         -0.0568654\n",
      "  -0.0568654   0.          0.          0.        ]\n",
      " [ 0.          0.          0.          0.          0.         -0.0568654\n",
      "   0.          0.         -0.0568654   0.22746162 -0.0568654   0.\n",
      "   0.         -0.0568654   0.          0.        ]\n",
      " [ 0.          0.          0.          0.          0.          0.\n",
      "  -0.0568654   0.          0.         -0.0568654   0.22746162 -0.0568654\n",
      "   0.          0.         -0.0568654   0.        ]\n",
      " [ 0.          0.          0.          0.          0.          0.\n",
      "   0.         -0.0568654  -0.0568654   0.         -0.0568654   0.22746162\n",
      "   0.          0.          0.         -0.0568654 ]\n",
      " [-0.0568654   0.          0.          0.          0.          0.\n",
      "   0.          0.         -0.0568654   0.          0.          0.\n",
      "   0.22746162 -0.0568654   0.         -0.0568654 ]\n",
      " [ 0.         -0.0568654   0.          0.          0.          0.\n",
      "   0.          0.          0.         -0.0568654   0.          0.\n",
      "  -0.0568654   0.22746162 -0.0568654   0.        ]\n",
      " [ 0.          0.         -0.0568654   0.          0.          0.\n",
      "   0.          0.          0.          0.         -0.0568654   0.\n",
      "   0.         -0.0568654   0.22746162 -0.0568654 ]\n",
      " [ 0.          0.          0.         -0.0568654   0.          0.\n",
      "   0.          0.          0.          0.          0.         -0.0568654\n",
      "  -0.0568654   0.         -0.0568654   0.22746162]]\n",
      "\n",
      "wartosci wlasne:\n",
      " [-1.30104261e-17  1.13730809e-01  1.13730809e-01  1.13730809e-01\n",
      "  1.13730809e-01  2.27461619e-01  2.27461619e-01  2.27461619e-01\n",
      "  2.27461619e-01  2.27461619e-01  2.27461619e-01  3.41192428e-01\n",
      "  3.41192428e-01  3.41192428e-01  3.41192428e-01  4.54923238e-01]\n"
     ]
    },
    {
     "data": {
      "image/png": "[encoded data removed]",
      "text/plain": [
       "<Figure size 640x480 with 1 Axes>"
      ]
     },
     "metadata": {},
     "output_type": "display_data"
    }
   ],
   "source": [
    "N = 4\n",
    "Layout = initialize_layout(N, N)\n",
    "print(Layout)\n",
    "plot_layout(Layout)\n",
    "Hamiltonian = initialize_hamiltonian(Layout, t)\n",
    "print(Hamiltonian)\n",
    "diagonalizated_hamiltonain = diagonalize_hamiltonian(Hamiltonian)"
   ]
  }
 ],
 "metadata": {
  "interpreter": {
   "hash": "2ba2baedf685caef30f61b4a06758494107aa1792b6d83263b275aa08702cabb"
  },
  "kernelspec": {
   "display_name": "Python 3.9.7 ('base')",
   "language": "python",
   "name": "python3"
  },
  "language_info": {
   "codemirror_mode": {
    "name": "ipython",
    "version": 3
   },
   "file_extension": ".py",
   "mimetype": "text/x-python",
   "name": "python",
   "nbconvert_exporter": "python",
   "pygments_lexer": "ipython3",
   "version": "3.11.1"
  },
  "orig_nbformat": 4
 },
 "nbformat": 4,
 "nbformat_minor": 2
}
