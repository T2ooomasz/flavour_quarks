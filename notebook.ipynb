{
 "cells": [
  {
   "cell_type": "markdown",
   "metadata": {},
   "source": [
    "# Artificial „SU(3) quarks” in quantum dots\n",
    "This notebook contain code for initialization: layout, Hamiltonian (from Layout), and diagonalization of Hamiltonian\n"
   ]
  },
  {
   "cell_type": "code",
   "execution_count": 1,
   "metadata": {},
   "outputs": [],
   "source": [
    "# import necesary modules\n",
    "import numpy as np\n",
    "import matplotlib.pyplot as plt\n",
    "import matplotlib.ticker as mticker"
   ]
  },
  {
   "cell_type": "markdown",
   "metadata": {},
   "source": [
    "Set necesary constants for initialization of layout and Hailtonian"
   ]
  },
  {
   "cell_type": "code",
   "execution_count": 6,
   "metadata": {},
   "outputs": [],
   "source": [
    "layout_size_x = 2   # number of atoms in X axis\n",
    "layout_size_y = 3   # number of atoms in Y axis\n",
    "\n",
    "t = 1               # parameter of Hamiltonian"
   ]
  },
  {
   "cell_type": "markdown",
   "metadata": {},
   "source": [
    "Functions for initialization layout and ploting it"
   ]
  },
  {
   "cell_type": "code",
   "execution_count": 10,
   "metadata": {},
   "outputs": [],
   "source": [
    "def initialize_layout(layout_size_x, layout_size_y):\n",
    "    Layout = np.zeros((layout_size_y, layout_size_x), dtype=int)\n",
    "    k = 1\n",
    "    for i in range(layout_size_x):\n",
    "        for j in range(layout_size_y):\n",
    "            Layout[j][i] = k\n",
    "            k += 1\n",
    "    return Layout"
   ]
  },
  {
   "cell_type": "code",
   "execution_count": 11,
   "metadata": {},
   "outputs": [],
   "source": [
    "def plot_layout(Layout):\n",
    "    x = Layout.shape[1]\n",
    "    y = Layout.shape[0]\n",
    "    X = np.arange(1, x+1, 1, dtype=int)\n",
    "    fig, axs = plt.subplots(1, 1)\n",
    "\n",
    "    for i in range(y):\n",
    "        Y=[]\n",
    "        for j in range(x):\n",
    "            Y.append(i+1)\n",
    "        axs.scatter(X, Y, c='blue', linewidths=10)\n",
    "    axs.set_aspect('equal', 'box')\n",
    "    formatter = mticker.ScalarFormatter()\n",
    "    axs.xaxis.set_major_formatter(formatter)\n",
    "    axs.xaxis.set_major_locator(mticker.FixedLocator([]))\n",
    "    axs.yaxis.set_major_locator(mticker.FixedLocator([]))\n",
    "    plt.show()"
   ]
  },
  {
   "cell_type": "markdown",
   "metadata": {},
   "source": [
    "## Let's show how layout look like:"
   ]
  },
  {
   "cell_type": "code",
   "execution_count": 14,
   "metadata": {},
   "outputs": [
    {
     "name": "stdout",
     "output_type": "stream",
     "text": [
      "[[1 4]\n",
      " [2 5]\n",
      " [3 6]]\n"
     ]
    },
    {
     "data": {
      "image/png": "[encoded data removed]",
      "text/plain": [
       "<Figure size 432x288 with 1 Axes>"
      ]
     },
     "metadata": {},
     "output_type": "display_data"
    }
   ],
   "source": [
    "Layout = initialize_layout(layout_size_x, layout_size_y)\n",
    "print(Layout)\n",
    "plot_layout(Layout)"
   ]
  },
  {
   "cell_type": "markdown",
   "metadata": {},
   "source": [
    "Function for initialization Hamiltonian fr0m layout"
   ]
  },
  {
   "cell_type": "code",
   "execution_count": null,
   "metadata": {},
   "outputs": [],
   "source": [
    "def initialize_hamiltonian(Layout, t):\n",
    "    elements = Layout.shape[0]*Layout.shape[1]\n",
    "    layout_size_x = Layout.shape[0]\n",
    "    layout_size_y = Layout.shape[1]\n",
    "    Hamiltonian = np.zeros((elements,elements))\n",
    "\n",
    "    for i in range(layout_size_x-1):\n",
    "        for j in range(layout_size_y-1):\n",
    "            line = Layout[i][j] - 1\n",
    "            jump1 = Layout[i+1][j] - 1\n",
    "            jump2 = Layout[i][j+1] - 1\n",
    "            Hamiltonian[line][jump1] = -t\n",
    "            Hamiltonian[line][jump2] = -t\n",
    "            Hamiltonian[jump1][line] = -t\n",
    "            Hamiltonian[jump2][line] = -t\n",
    "\n",
    "    j = layout_size_y-1\n",
    "    for i in range(layout_size_x-1):\n",
    "        line = Layout[i][j] - 1\n",
    "        jump1 = Layout[i+1][j] - 1\n",
    "        Hamiltonian[line][jump1] = -t\n",
    "        Hamiltonian[jump1][line] = -t\n",
    "\n",
    "    i = layout_size_x-1\n",
    "    for j in range(layout_size_y-1):\n",
    "        line = Layout[i][j] - 1\n",
    "        jump1 = Layout[i][j+1] - 1\n",
    "        Hamiltonian[line][jump1] = -t\n",
    "        Hamiltonian[jump1][line] = -t\n",
    "\n",
    "    for i in range(elements):\n",
    "        Hamiltonian[i][i] = 4*t\n",
    "\n",
    "    return Hamiltonian"
   ]
  },
  {
   "cell_type": "markdown",
   "metadata": {},
   "source": [
    "## Let's show how Hamiltonian look like:"
   ]
  },
  {
   "cell_type": "code",
   "execution_count": null,
   "metadata": {},
   "outputs": [
    {
     "name": "stdout",
     "output_type": "stream",
     "text": [
      "[[ 4. -1. -1.  0.]\n",
      " [-1.  4.  0. -1.]\n",
      " [-1.  0.  4. -1.]\n",
      " [ 0. -1. -1.  4.]]\n"
     ]
    }
   ],
   "source": [
    "Hamiltonian = initialize_hamiltonian(Layout, t)\n",
    "print(Hamiltonian)"
   ]
  },
  {
   "cell_type": "markdown",
   "metadata": {},
   "source": [
    "Function for diagonalization"
   ]
  },
  {
   "cell_type": "code",
   "execution_count": null,
   "metadata": {},
   "outputs": [],
   "source": [
    "def diagonalize_hamiltonian(Hamiltonian):\n",
    "    w,v =  np.linalg.eig(Hamiltonian)\n",
    "    idx = w.argsort()\n",
    "    w = w[idx]\n",
    "    v = v[:,idx]\n",
    "    diagonal = np.diag(w)\n",
    "    print(\"\\nwartosci wlasne:\\n\", w)\n",
    "    print(\"\\nwektory wlasne:\\n\", v)\n",
    "    print('\\nZdiagonalizowany Hamiltonian:\\n', diagonal)\n",
    "    return diagonal\n"
   ]
  },
  {
   "cell_type": "markdown",
   "metadata": {},
   "source": [
    "## Let's show how Hamiltonian look like after diagonalization:"
   ]
  },
  {
   "cell_type": "code",
   "execution_count": null,
   "metadata": {},
   "outputs": [
    {
     "name": "stdout",
     "output_type": "stream",
     "text": [
      "\n",
      "wartosci wlasne:\n",
      " [2. 4. 4. 6.]\n",
      "\n",
      "wektory wlasne:\n",
      " [[ 5.00000000e-01  0.00000000e+00  7.07106781e-01  5.00000000e-01]\n",
      " [ 5.00000000e-01 -7.07106781e-01 -7.40726924e-16 -5.00000000e-01]\n",
      " [ 5.00000000e-01  7.07106781e-01 -1.17093835e-16 -5.00000000e-01]\n",
      " [ 5.00000000e-01  6.66133815e-16 -7.07106781e-01  5.00000000e-01]]\n",
      "\n",
      "Zdiagonalizowany Hamiltonian:\n",
      " [[2. 0. 0. 0.]\n",
      " [0. 4. 0. 0.]\n",
      " [0. 0. 4. 0.]\n",
      " [0. 0. 0. 6.]]\n"
     ]
    }
   ],
   "source": [
    "diagonalizated_hamiltonain = diagonalize_hamiltonian(Hamiltonian)"
   ]
  }
 ],
 "metadata": {
  "interpreter": {
   "hash": "2ba2baedf685caef30f61b4a06758494107aa1792b6d83263b275aa08702cabb"
  },
  "kernelspec": {
   "display_name": "Python 3.9.7 ('base')",
   "language": "python",
   "name": "python3"
  },
  "language_info": {
   "codemirror_mode": {
    "name": "ipython",
    "version": 3
   },
   "file_extension": ".py",
   "mimetype": "text/x-python",
   "name": "python",
   "nbconvert_exporter": "python",
   "pygments_lexer": "ipython3",
   "version": "3.9.7"
  },
  "orig_nbformat": 4
 },
 "nbformat": 4,
 "nbformat_minor": 2
}
